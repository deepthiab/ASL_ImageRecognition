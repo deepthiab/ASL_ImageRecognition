{
 "cells": [
  {
   "cell_type": "code",
   "execution_count": 1,
   "metadata": {},
   "outputs": [],
   "source": [
    "import pandas as pd\n",
    "import numpy as np\n",
    "import matplotlib.pyplot as plt\n",
    "import seaborn as sns\n",
    "import string\n",
    "\n",
    "\n",
    "import keras\n",
    "from tensorflow.keras.models import Sequential\n",
    "from tensorflow.keras.layers import Dense, Dropout, Flatten, Conv2D, MaxPooling2D , BatchNormalization\n",
    "from tensorflow.keras import utils\n",
    "from keras.preprocessing.image import ImageDataGenerator\n",
    "from tensorflow.keras.callbacks import EarlyStopping"
   ]
  },
  {
   "cell_type": "code",
   "execution_count": 2,
   "metadata": {},
   "outputs": [],
   "source": [
    "#import train and test csv\n",
    "train_df = pd.read_csv('./data/sign_mnist_train.csv')\n",
    "test_df = pd.read_csv('./data/sign_mnist_test.csv')"
   ]
  },
  {
   "cell_type": "code",
   "execution_count": 3,
   "metadata": {},
   "outputs": [
    {
     "data": {
      "text/plain": [
       "17    1294\n",
       "16    1279\n",
       "11    1241\n",
       "22    1225\n",
       "5     1204\n",
       "18    1199\n",
       "14    1196\n",
       "3     1196\n",
       "19    1186\n",
       "23    1164\n",
       "8     1162\n",
       "20    1161\n",
       "13    1151\n",
       "2     1144\n",
       "0     1126\n",
       "24    1118\n",
       "10    1114\n",
       "6     1090\n",
       "15    1088\n",
       "21    1082\n",
       "12    1055\n",
       "7     1013\n",
       "1     1010\n",
       "4      957\n",
       "Name: label, dtype: int64"
      ]
     },
     "execution_count": 3,
     "metadata": {},
     "output_type": "execute_result"
    }
   ],
   "source": [
    "train_df['label'].value_counts()"
   ]
  },
  {
   "cell_type": "markdown",
   "metadata": {},
   "source": [
    "Data seems pretty balanced. We will keep an eye on 4."
   ]
  },
  {
   "cell_type": "code",
   "execution_count": 4,
   "metadata": {},
   "outputs": [],
   "source": [
    "#Dictionary for labels\n",
    "label_dic = {i:string.ascii_uppercase[i] for i in range(26)}"
   ]
  },
  {
   "cell_type": "code",
   "execution_count": 5,
   "metadata": {},
   "outputs": [
    {
     "data": {
      "text/plain": [
       "'Z'"
      ]
     },
     "execution_count": 5,
     "metadata": {},
     "output_type": "execute_result"
    }
   ],
   "source": [
    "#delete J and Z\n",
    "label_dic.pop(9)\n",
    "label_dic.pop(25)"
   ]
  },
  {
   "cell_type": "code",
   "execution_count": 15,
   "metadata": {},
   "outputs": [
    {
     "data": {
      "text/plain": [
       "{0: 'A',\n",
       " 1: 'B',\n",
       " 2: 'C',\n",
       " 3: 'D',\n",
       " 4: 'E',\n",
       " 5: 'F',\n",
       " 6: 'G',\n",
       " 7: 'H',\n",
       " 8: 'I',\n",
       " 10: 'K',\n",
       " 11: 'L',\n",
       " 12: 'M',\n",
       " 13: 'N',\n",
       " 14: 'O',\n",
       " 15: 'P',\n",
       " 16: 'Q',\n",
       " 17: 'R',\n",
       " 18: 'S',\n",
       " 19: 'T',\n",
       " 20: 'U',\n",
       " 21: 'V',\n",
       " 22: 'W',\n",
       " 23: 'X',\n",
       " 24: 'Y'}"
      ]
     },
     "execution_count": 15,
     "metadata": {},
     "output_type": "execute_result"
    }
   ],
   "source": [
    "label_dic"
   ]
  },
  {
   "cell_type": "code",
   "execution_count": 6,
   "metadata": {},
   "outputs": [],
   "source": [
    "y_train = train_df['label']\n",
    "y_test = test_df['label']\n",
    "y_test_labels = test_df['label']"
   ]
  },
  {
   "cell_type": "code",
   "execution_count": 7,
   "metadata": {},
   "outputs": [],
   "source": [
    "X_train = train_df.drop(columns = 'label').values\n",
    "X_test = test_df.drop(columns = 'label').values"
   ]
  },
  {
   "cell_type": "code",
   "execution_count": 9,
   "metadata": {},
   "outputs": [
    {
     "data": {
      "text/plain": [
       "(numpy.ndarray, (27455, 784))"
      ]
     },
     "execution_count": 9,
     "metadata": {},
     "output_type": "execute_result"
    }
   ],
   "source": [
    "type(X_train) , X_train.shape"
   ]
  },
  {
   "cell_type": "code",
   "execution_count": 86,
   "metadata": {},
   "outputs": [],
   "source": [
    "X_train = X_train.reshape(X_train.shape[0],28,28)\n",
    "X_test = X_test.reshape(X_test.shape[0],28,28)"
   ]
  },
  {
   "cell_type": "code",
   "execution_count": 10,
   "metadata": {},
   "outputs": [
    {
     "data": {
      "text/plain": [
       "(27455, 784)"
      ]
     },
     "execution_count": 10,
     "metadata": {},
     "output_type": "execute_result"
    }
   ],
   "source": [
    "X_train.shape"
   ]
  },
  {
   "cell_type": "code",
   "execution_count": 81,
   "metadata": {},
   "outputs": [
    {
     "data": {
      "image/png": "[encoded data removed]",
      "text/plain": [
       "<Figure size 432x288 with 1 Axes>"
      ]
     },
     "metadata": {
      "needs_background": "light"
     },
     "output_type": "display_data"
    },
    {
     "data": {
      "image/png": "[encoded data removed]",
      "text/plain": [
       "<Figure size 432x288 with 1 Axes>"
      ]
     },
     "metadata": {
      "needs_background": "light"
     },
     "output_type": "display_data"
    },
    {
     "data": {
      "image/png": "[encoded data removed]",
      "text/plain": [
       "<Figure size 432x288 with 1 Axes>"
      ]
     },
     "metadata": {
      "needs_background": "light"
     },
     "output_type": "display_data"
    }
   ],
   "source": [
    "#Visualize a few images\n",
    "for i in range(3):\n",
    "    plt.imshow(X_train[i])\n",
    "    plt.title(label_dic[y_train[i]],fontsize = 18)\n",
    "    plt.show()"
   ]
  },
  {
   "cell_type": "code",
   "execution_count": 87,
   "metadata": {},
   "outputs": [
    {
     "data": {
      "text/plain": [
       "((27455, 28, 28), (7172, 28, 28), (27455,), (7172,))"
      ]
     },
     "execution_count": 87,
     "metadata": {},
     "output_type": "execute_result"
    }
   ],
   "source": [
    "X_train.shape, X_test.shape, y_train.shape , y_test.shape"
   ]
  },
  {
   "cell_type": "code",
   "execution_count": 88,
   "metadata": {},
   "outputs": [],
   "source": [
    "X_train = np.expand_dims(X_train,-1)\n",
    "X_test = np.expand_dims(X_test,-1)"
   ]
  },
  {
   "cell_type": "code",
   "execution_count": 89,
   "metadata": {},
   "outputs": [
    {
     "data": {
      "text/plain": [
       "((27455, 28, 28, 1), (7172, 28, 28, 1))"
      ]
     },
     "execution_count": 89,
     "metadata": {},
     "output_type": "execute_result"
    }
   ],
   "source": [
    "X_train.shape, X_test.shape"
   ]
  },
  {
   "cell_type": "code",
   "execution_count": 90,
   "metadata": {},
   "outputs": [],
   "source": [
    "X_train = X_train.astype('float32')/255\n",
    "X_test = X_test.astype('float32')/255"
   ]
  },
  {
   "cell_type": "code",
   "execution_count": 11,
   "metadata": {},
   "outputs": [
    {
     "data": {
      "text/plain": [
       "(27455, 784)"
      ]
     },
     "execution_count": 11,
     "metadata": {},
     "output_type": "execute_result"
    }
   ],
   "source": [
    "X_train.shape"
   ]
  },
  {
   "cell_type": "code",
   "execution_count": 12,
   "metadata": {},
   "outputs": [
    {
     "data": {
      "text/plain": [
       "(7172, 784)"
      ]
     },
     "execution_count": 12,
     "metadata": {},
     "output_type": "execute_result"
    }
   ],
   "source": [
    "X_test.shape"
   ]
  },
  {
   "cell_type": "code",
   "execution_count": 14,
   "metadata": {},
   "outputs": [
    {
     "data": {
      "text/plain": [
       "(784,)"
      ]
     },
     "execution_count": 14,
     "metadata": {},
     "output_type": "execute_result"
    }
   ],
   "source": [
    "X_train[0].shape"
   ]
  },
  {
   "cell_type": "code",
   "execution_count": 91,
   "metadata": {},
   "outputs": [],
   "source": [
    "y_train = utils.to_categorical(y_train)\n",
    "y_test = utils.to_categorical(y_test)"
   ]
  },
  {
   "cell_type": "markdown",
   "metadata": {},
   "source": [
    "## CNN Model"
   ]
  },
  {
   "cell_type": "code",
   "execution_count": 100,
   "metadata": {},
   "outputs": [],
   "source": [
    "#Instantiate model\n",
    "cnn = Sequential()\n",
    "\n",
    "#Conv layer1\n",
    "cnn.add(Conv2D(filters = 6,\n",
    "              kernel_size = (3,3),\n",
    "              activation = 'relu',\n",
    "              input_shape = (28,28,1)\n",
    "              ))\n",
    "\n",
    "#MaxPool layer1\n",
    "cnn.add(MaxPooling2D(pool_size = (2,2)))\n",
    "\n",
    "#Conv layer2\n",
    "cnn.add(Conv2D(filters = 16,\n",
    "              kernel_size = (3,3),\n",
    "              activation = 'relu'\n",
    "              ))\n",
    "\n",
    "#MaxPool2\n",
    "cnn.add(MaxPooling2D(pool_size = (2,2)))\n",
    "\n",
    "#Flatten\n",
    "cnn.add(Flatten())\n",
    "\n",
    "#Dense Layers\n",
    "cnn.add(Dense(128,activation = 'relu'))\n",
    "cnn.add(Dense(32,activation = 'relu'))\n",
    "cnn.add(Dense(25, activation = 'softmax'))"
   ]
  },
  {
   "cell_type": "code",
   "execution_count": 101,
   "metadata": {},
   "outputs": [
    {
     "name": "stdout",
     "output_type": "stream",
     "text": [
      "Model: \"sequential_2\"\n",
      "_________________________________________________________________\n",
      "Layer (type)                 Output Shape              Param #   \n",
      "=================================================================\n",
      "conv2d_4 (Conv2D)            (None, 26, 26, 6)         60        \n",
      "_________________________________________________________________\n",
      "max_pooling2d_4 (MaxPooling2 (None, 13, 13, 6)         0         \n",
      "_________________________________________________________________\n",
      "conv2d_5 (Conv2D)            (None, 11, 11, 16)        880       \n",
      "_________________________________________________________________\n",
      "max_pooling2d_5 (MaxPooling2 (None, 5, 5, 16)          0         \n",
      "_________________________________________________________________\n",
      "flatten_2 (Flatten)          (None, 400)               0         \n",
      "_________________________________________________________________\n",
      "dense_6 (Dense)              (None, 128)               51328     \n",
      "_________________________________________________________________\n",
      "dense_7 (Dense)              (None, 32)                4128      \n",
      "_________________________________________________________________\n",
      "dense_8 (Dense)              (None, 25)                825       \n",
      "=================================================================\n",
      "Total params: 57,221\n",
      "Trainable params: 57,221\n",
      "Non-trainable params: 0\n",
      "_________________________________________________________________\n"
     ]
    }
   ],
   "source": [
    "cnn.summary()"
   ]
  },
  {
   "cell_type": "code",
   "execution_count": 102,
   "metadata": {},
   "outputs": [],
   "source": [
    "#Compile\n",
    "cnn.compile(loss = 'categorical_crossentropy',\n",
    "           optimizer = 'adam',\n",
    "           metrics = ['accuracy'])"
   ]
  },
  {
   "cell_type": "code",
   "execution_count": 103,
   "metadata": {},
   "outputs": [
    {
     "data": {
      "text/plain": [
       "((27455, 28, 28, 1), (27455, 25), (7172, 28, 28, 1), (7172, 25))"
      ]
     },
     "execution_count": 103,
     "metadata": {},
     "output_type": "execute_result"
    }
   ],
   "source": [
    "X_train.shape, y_train.shape , X_test.shape , y_test.shape"
   ]
  },
  {
   "cell_type": "code",
   "execution_count": 104,
   "metadata": {},
   "outputs": [
    {
     "name": "stdout",
     "output_type": "stream",
     "text": [
      "Epoch 1/10\n",
      "108/108 [==============================] - 5s 39ms/step - loss: 3.0460 - accuracy: 0.1242 - val_loss: 1.8463 - val_accuracy: 0.4293\n",
      "Epoch 2/10\n",
      "108/108 [==============================] - 4s 40ms/step - loss: 1.4425 - accuracy: 0.5643 - val_loss: 1.0926 - val_accuracy: 0.6634\n",
      "Epoch 3/10\n",
      "108/108 [==============================] - 5s 46ms/step - loss: 0.8268 - accuracy: 0.7441 - val_loss: 0.8409 - val_accuracy: 0.7267\n",
      "Epoch 4/10\n",
      "108/108 [==============================] - 5s 45ms/step - loss: 0.5370 - accuracy: 0.8422 - val_loss: 0.6599 - val_accuracy: 0.7868\n",
      "Epoch 5/10\n",
      "108/108 [==============================] - 5s 43ms/step - loss: 0.3560 - accuracy: 0.9006 - val_loss: 0.5535 - val_accuracy: 0.8272\n",
      "Epoch 6/10\n",
      "108/108 [==============================] - 4s 40ms/step - loss: 0.2379 - accuracy: 0.9361 - val_loss: 0.5183 - val_accuracy: 0.8300\n",
      "Epoch 7/10\n",
      "108/108 [==============================] - 4s 41ms/step - loss: 0.1726 - accuracy: 0.9583 - val_loss: 0.4559 - val_accuracy: 0.8554\n",
      "Epoch 8/10\n",
      "108/108 [==============================] - 5s 42ms/step - loss: 0.1214 - accuracy: 0.9753 - val_loss: 0.4215 - val_accuracy: 0.8716\n",
      "Epoch 9/10\n",
      "108/108 [==============================] - 5s 42ms/step - loss: 0.0855 - accuracy: 0.9846 - val_loss: 0.4002 - val_accuracy: 0.8793\n",
      "Epoch 10/10\n",
      "108/108 [==============================] - 4s 40ms/step - loss: 0.0632 - accuracy: 0.9918 - val_loss: 0.3940 - val_accuracy: 0.8820\n"
     ]
    }
   ],
   "source": [
    "#\n",
    "history = cnn.fit(X_train,y_train , validation_data = (X_test,y_test),\n",
    "                  batch_size = 256,\n",
    "                  epochs = 10,\n",
    "                  verbose =1)"
   ]
  },
  {
   "cell_type": "code",
   "execution_count": null,
   "metadata": {},
   "outputs": [],
   "source": [
    "train_acc = history.history['accuracy']\n",
    "test_acc = history.history['val_accuracy']\n",
    "epoch_labels = history.epoch\n",
    "\n",
    "# Set figure size.\n",
    "plt.figure(figsize=(12, 8))\n",
    "\n",
    "# Generate line plot of training, testing loss over epochs.\n",
    "plt.plot(train_acc, label='Training Loss', color='#185fad')\n",
    "plt.plot(test_acc, label='Testing Loss', color='orange')\n",
    "\n",
    "# Set title\n",
    "plt.title('Training and Testing Accuracy by Epoch', fontsize=25)\n",
    "plt.xlabel('Epoch', fontsize=18)\n",
    "plt.ylabel('Categorical Crossentropy', fontsize=18)\n",
    "plt.xticks(epoch_labels, epoch_labels)    # ticks, labels\n",
    "\n",
    "plt.legend(fontsize=18);"
   ]
  },
  {
   "cell_type": "markdown",
   "metadata": {},
   "source": [
    "Tuning the model"
   ]
  },
  {
   "cell_type": "code",
   "execution_count": 15,
   "metadata": {},
   "outputs": [],
   "source": [
    "\n",
    "#Instantiate model\n",
    "cnn_d = Sequential()\n",
    "\n",
    "#Conv layer1\n",
    "cnn_d.add(Conv2D(filters = 75,\n",
    "              kernel_size = (3,3),\n",
    "              activation = 'relu',\n",
    "              input_shape = (28,28,1)\n",
    "              ))\n",
    "cnn_d.add(BatchNormalization())\n",
    "\n",
    "#MaxPool layer1\n",
    "cnn_d.add(MaxPooling2D(pool_size = (2,2)))\n",
    "\n",
    "#Conv layer2\n",
    "cnn_d.add(Conv2D(filters = 50,\n",
    "              kernel_size = (3,3),\n",
    "              activation = 'relu'\n",
    "              ))\n",
    "cnn_d.add(Dropout(0.2))\n",
    "cnn_d.add(BatchNormalization())\n",
    "\n",
    "cnn_d.add(MaxPooling2D(pool_size = (2,2)))\n",
    "\n",
    "\n",
    "#Conv layer3\n",
    "cnn_d.add(Conv2D(filters = 20,\n",
    "              kernel_size = (3,3),\n",
    "              activation = 'relu'\n",
    "              ))\n",
    "cnn_d.add(Dropout(0.2))\n",
    "cnn_d.add(BatchNormalization())\n",
    "#MaxPool3\n",
    "cnn_d.add(MaxPooling2D(pool_size = (2,2)))\n",
    "\n",
    "#Flatten\n",
    "cnn_d.add(Flatten())\n",
    "\n",
    "#Dense Layers\n",
    "cnn_d.add(Dense(128,activation = 'relu'))\n",
    "cnn_d.add(Dropout(0.2))\n",
    "cnn_d.add(Dense(32,activation = 'relu'))\n",
    "cnn_d.add(Dense(25, activation = 'softmax'))"
   ]
  },
  {
   "cell_type": "code",
   "execution_count": 16,
   "metadata": {},
   "outputs": [],
   "source": [
    "cnn_d.compile(loss = 'categorical_crossentropy',\n",
    "           optimizer = 'adam',\n",
    "           metrics = ['accuracy'])"
   ]
  },
  {
   "cell_type": "code",
   "execution_count": 17,
   "metadata": {},
   "outputs": [
    {
     "name": "stdout",
     "output_type": "stream",
     "text": [
      "Epoch 1/14\n",
      "215/215 [==============================] - 56s 260ms/step - loss: 2.2117 - accuracy: 0.3461 - val_loss: 3.6660 - val_accuracy: 0.0573\n",
      "Epoch 2/14\n",
      "215/215 [==============================] - 41s 190ms/step - loss: 0.3736 - accuracy: 0.8747 - val_loss: 2.0281 - val_accuracy: 0.3956\n",
      "Epoch 3/14\n",
      "215/215 [==============================] - 39s 181ms/step - loss: 0.1729 - accuracy: 0.9434 - val_loss: 0.5020 - val_accuracy: 0.8567\n",
      "Epoch 4/14\n",
      "215/215 [==============================] - 50s 231ms/step - loss: 0.1090 - accuracy: 0.9642 - val_loss: 0.2988 - val_accuracy: 0.9095\n",
      "Epoch 5/14\n",
      "215/215 [==============================] - 53s 248ms/step - loss: 0.0907 - accuracy: 0.9697 - val_loss: 0.3181 - val_accuracy: 0.8950\n",
      "Epoch 6/14\n",
      "215/215 [==============================] - 48s 223ms/step - loss: 0.0694 - accuracy: 0.9770 - val_loss: 0.6983 - val_accuracy: 0.7921\n",
      "Epoch 7/14\n",
      "215/215 [==============================] - 43s 199ms/step - loss: 0.0567 - accuracy: 0.9825 - val_loss: 0.3456 - val_accuracy: 0.8949\n",
      "Epoch 8/14\n",
      "215/215 [==============================] - 42s 198ms/step - loss: 0.0520 - accuracy: 0.9826 - val_loss: 0.3669 - val_accuracy: 0.8859\n",
      "Epoch 9/14\n",
      "215/215 [==============================] - 42s 198ms/step - loss: 0.0402 - accuracy: 0.9876 - val_loss: 0.5502 - val_accuracy: 0.8332\n",
      "Epoch 10/14\n",
      "215/215 [==============================] - 41s 192ms/step - loss: 0.0366 - accuracy: 0.9888 - val_loss: 0.2304 - val_accuracy: 0.9184\n",
      "Epoch 11/14\n",
      "215/215 [==============================] - 42s 194ms/step - loss: 0.0356 - accuracy: 0.9884 - val_loss: 0.6059 - val_accuracy: 0.8185\n",
      "Epoch 12/14\n",
      "215/215 [==============================] - 41s 189ms/step - loss: 0.0335 - accuracy: 0.9897 - val_loss: 0.3929 - val_accuracy: 0.8759\n",
      "Epoch 13/14\n",
      "215/215 [==============================] - 48s 225ms/step - loss: 0.0336 - accuracy: 0.9881 - val_loss: 0.5421 - val_accuracy: 0.8561\n",
      "Epoch 14/14\n",
      "215/215 [==============================] - 53s 247ms/step - loss: 0.0352 - accuracy: 0.9885 - val_loss: 0.2262 - val_accuracy: 0.9366\n"
     ]
    }
   ],
   "source": [
    "history_d = cnn_d.fit(X_train,y_train , validation_data = (X_test,y_test),\n",
    "                  batch_size = 128,\n",
    "                  epochs = 14,\n",
    "                  verbose =1)"
   ]
  },
  {
   "cell_type": "code",
   "execution_count": 18,
   "metadata": {},
   "outputs": [
    {
     "name": "stdout",
     "output_type": "stream",
     "text": [
      "858/858 [==============================] - 10s 12ms/step - loss: 0.0332 - accuracy: 0.9928\n"
     ]
    },
    {
     "data": {
      "text/plain": [
       "[0.033163320273160934, 0.9927517771720886]"
      ]
     },
     "execution_count": 18,
     "metadata": {},
     "output_type": "execute_result"
    }
   ],
   "source": [
    "cnn_d.evaluate(X_train, y_train)"
   ]
  },
  {
   "cell_type": "code",
   "execution_count": 19,
   "metadata": {},
   "outputs": [
    {
     "name": "stdout",
     "output_type": "stream",
     "text": [
      "225/225 [==============================] - 3s 13ms/step - loss: 0.2262 - accuracy: 0.9366\n"
     ]
    },
    {
     "data": {
      "text/plain": [
       "[0.22624483704566956, 0.9365588426589966]"
      ]
     },
     "execution_count": 19,
     "metadata": {},
     "output_type": "execute_result"
    }
   ],
   "source": [
    "cnn_d.evaluate(X_test, y_test)"
   ]
  },
  {
   "cell_type": "code",
   "execution_count": 20,
   "metadata": {},
   "outputs": [
    {
     "data": {
      "image/png": "[encoded data removed]",
      "text/plain": [
       "<Figure size 864x576 with 1 Axes>"
      ]
     },
     "metadata": {
      "needs_background": "light"
     },
     "output_type": "display_data"
    }
   ],
   "source": [
    "train_acc = history_d.history['accuracy']\n",
    "test_acc = history_d.history['val_accuracy']\n",
    "epoch_labels = history_d.epoch\n",
    "\n",
    "# Set figure size.\n",
    "plt.figure(figsize=(12, 8))\n",
    "\n",
    "# Generate line plot of training, testing loss over epochs.\n",
    "plt.plot(train_acc, label='Training Loss', color='#185fad')\n",
    "plt.plot(test_acc, label='Testing Loss', color='orange')\n",
    "\n",
    "# Set title\n",
    "plt.title('Training and Testing Accuracy by Epoch', fontsize=25)\n",
    "plt.xlabel('Epoch', fontsize=18)\n",
    "plt.ylabel('Categorical Crossentropy', fontsize=18)\n",
    "plt.xticks(epoch_labels, epoch_labels)    # ticks, labels\n",
    "\n",
    "plt.legend(fontsize=18);"
   ]
  },
  {
   "cell_type": "markdown",
   "metadata": {},
   "source": [
    "Our model is still overfit. Try some image augmentation to create more data"
   ]
  },
  {
   "cell_type": "code",
   "execution_count": 92,
   "metadata": {},
   "outputs": [],
   "source": [
    "#https://machinelearningmastery.com/how-to-load-and-manipulate-images-for-deep-learning-in-python-with-pil-pillow/\n",
    "augmentdata = ImageDataGenerator(\n",
    "        featurewise_center=False,  # set input mean to 0 over the dataset\n",
    "        samplewise_center=False,  # set each sample mean to 0\n",
    "        featurewise_std_normalization=False,  # divide inputs by std of the dataset\n",
    "        samplewise_std_normalization=False,  # divide each input by its std\n",
    "        zca_whitening=False,  # apply ZCA whitening\n",
    "        rotation_range=10,  # randomly rotate images in the range (degrees, 0 to 180)\n",
    "        zoom_range = 0.1, # Randomly zoom image \n",
    "        width_shift_range=0.1,  # randomly shift images horizontally (fraction of total width)\n",
    "        height_shift_range=0.1,  # randomly shift images vertically (fraction of total height)\n",
    "        horizontal_flip=False,  # randomly flip images\n",
    "        vertical_flip=False)  # randomly flip images\n",
    "\n",
    "\n",
    "augmentdata.fit(X_train)"
   ]
  },
  {
   "cell_type": "code",
   "execution_count": 109,
   "metadata": {},
   "outputs": [],
   "source": [
    "\n",
    "#Instantiate model\n",
    "cnn_aug = Sequential()\n",
    "\n",
    "#Conv layer1\n",
    "cnn_aug.add(Conv2D(filters = 75,\n",
    "              kernel_size = (3,3),\n",
    "              activation = 'relu',\n",
    "              input_shape = (28,28,1)\n",
    "              ))\n",
    "cnn_aug.add(BatchNormalization())\n",
    "\n",
    "#MaxPool layer1\n",
    "cnn_aug.add(MaxPooling2D(pool_size = (2,2)))\n",
    "\n",
    "#Conv layer2\n",
    "cnn_aug.add(Conv2D(filters = 50,\n",
    "              kernel_size = (3,3),\n",
    "              activation = 'relu'\n",
    "              ))\n",
    "cnn_aug.add(Dropout(0.2))\n",
    "cnn_aug.add(BatchNormalization())\n",
    "\n",
    "cnn_aug.add(MaxPooling2D(pool_size = (2,2)))\n",
    "\n",
    "\n",
    "#Conv layer3\n",
    "cnn_aug.add(Conv2D(filters = 20,\n",
    "              kernel_size = (3,3),\n",
    "              activation = 'relu'\n",
    "              ))\n",
    "cnn_aug.add(Dropout(0.2))\n",
    "cnn_aug.add(BatchNormalization())\n",
    "#MaxPool3\n",
    "cnn_aug.add(MaxPooling2D(pool_size = (2,2)))\n",
    "\n",
    "#Flatten\n",
    "cnn_aug.add(Flatten())\n",
    "\n",
    "#Dense Layers\n",
    "cnn_aug.add(Dense(128,activation = 'relu'))\n",
    "cnn_aug.add(Dropout(0.2))\n",
    "cnn_aug.add(Dense(32,activation = 'relu'))\n",
    "cnn_aug.add(Dense(25, activation = 'softmax'))"
   ]
  },
  {
   "cell_type": "code",
   "execution_count": 110,
   "metadata": {},
   "outputs": [],
   "source": [
    "cnn_aug.compile(loss = 'categorical_crossentropy',\n",
    "           optimizer = 'adam',\n",
    "           metrics = ['accuracy'])\n",
    "\n",
    "early_stop = EarlyStopping(monitor='val_loss', min_delta=0.00001,\n",
    "                           patience=2, verbose=1, mode='auto')\n"
   ]
  },
  {
   "cell_type": "code",
   "execution_count": 111,
   "metadata": {},
   "outputs": [
    {
     "name": "stdout",
     "output_type": "stream",
     "text": [
      "Epoch 1/10\n",
      "215/215 [==============================] - 45s 207ms/step - loss: 2.6163 - accuracy: 0.2277 - val_loss: 2.9197 - val_accuracy: 0.1592\n",
      "Epoch 2/10\n",
      "215/215 [==============================] - 47s 219ms/step - loss: 0.9010 - accuracy: 0.6904 - val_loss: 1.3519 - val_accuracy: 0.6669\n",
      "Epoch 3/10\n",
      "215/215 [==============================] - 43s 199ms/step - loss: 0.5632 - accuracy: 0.8017 - val_loss: 0.8930 - val_accuracy: 0.7179\n",
      "Epoch 4/10\n",
      "215/215 [==============================] - 43s 200ms/step - loss: 0.4115 - accuracy: 0.8583 - val_loss: 0.2545 - val_accuracy: 0.9261\n",
      "Epoch 5/10\n",
      "215/215 [==============================] - 46s 212ms/step - loss: 0.3309 - accuracy: 0.8884 - val_loss: 0.9612 - val_accuracy: 0.6962\n",
      "Epoch 6/10\n",
      "215/215 [==============================] - 44s 203ms/step - loss: 0.2959 - accuracy: 0.9027 - val_loss: 0.2493 - val_accuracy: 0.9158\n",
      "Epoch 7/10\n",
      "215/215 [==============================] - 46s 214ms/step - loss: 0.2402 - accuracy: 0.9178 - val_loss: 0.3209 - val_accuracy: 0.8688\n",
      "Epoch 8/10\n",
      "215/215 [==============================] - 44s 203ms/step - loss: 0.2293 - accuracy: 0.9242 - val_loss: 0.3683 - val_accuracy: 0.8712\n",
      "Epoch 9/10\n",
      "215/215 [==============================] - 44s 206ms/step - loss: 0.2109 - accuracy: 0.9279 - val_loss: 0.2067 - val_accuracy: 0.9307\n",
      "Epoch 10/10\n",
      "215/215 [==============================] - 45s 207ms/step - loss: 0.1860 - accuracy: 0.9378 - val_loss: 0.0749 - val_accuracy: 0.9799\n"
     ]
    }
   ],
   "source": [
    "history_aug = cnn_aug.fit(augmentdata.flow(X_train,y_train, batch_size = 128) , \n",
    "                          validation_data = (X_test,y_test),\n",
    "                  epochs = 10,\n",
    "                  verbose =1\n",
    "#                   ,callbacks=[early_stop]\n",
    "                         )"
   ]
  },
  {
   "cell_type": "code",
   "execution_count": 112,
   "metadata": {},
   "outputs": [
    {
     "name": "stdout",
     "output_type": "stream",
     "text": [
      "225/225 [==============================] - 3s 15ms/step - loss: 0.0749 - accuracy: 0.9799\n"
     ]
    },
    {
     "data": {
      "text/plain": [
       "[0.07486871629953384, 0.9799219369888306]"
      ]
     },
     "execution_count": 112,
     "metadata": {},
     "output_type": "execute_result"
    }
   ],
   "source": [
    "cnn_aug.evaluate(X_test, y_test)"
   ]
  },
  {
   "cell_type": "code",
   "execution_count": 115,
   "metadata": {},
   "outputs": [
    {
     "data": {
      "image/png": "[encoded data removed]",
      "text/plain": [
       "<Figure size 864x576 with 1 Axes>"
      ]
     },
     "metadata": {
      "needs_background": "light"
     },
     "output_type": "display_data"
    }
   ],
   "source": [
    "train_acc = history_aug.history['accuracy']\n",
    "test_acc = history_aug.history['val_accuracy']\n",
    "epoch_labels = history_aug.epoch\n",
    "\n",
    "# Set figure size.\n",
    "plt.figure(figsize=(12, 8))\n",
    "\n",
    "# Generate line plot of training, testing loss over epochs.\n",
    "plt.plot(train_acc, label='Training Accuracy', color='#185fad')\n",
    "plt.plot(test_acc, label='Testing Accuracy', color='orange')\n",
    "\n",
    "# Set title\n",
    "plt.title('Training and Testing Accuracy by Epoch', fontsize=25)\n",
    "plt.xlabel('Epoch', fontsize=18)\n",
    "plt.ylabel('Categorical Crossentropy', fontsize=18)\n",
    "plt.xticks(epoch_labels, epoch_labels)    # ticks, labels\n",
    "\n",
    "plt.legend(fontsize=18);"
   ]
  },
  {
   "cell_type": "code",
   "execution_count": 114,
   "metadata": {},
   "outputs": [
    {
     "data": {
      "image/png": "[encoded data removed]",
      "text/plain": [
       "<Figure size 1152x648 with 2 Axes>"
      ]
     },
     "metadata": {
      "needs_background": "light"
     },
     "output_type": "display_data"
    }
   ],
   "source": [
    "from sklearn.metrics import confusion_matrix\n",
    "import seaborn as sns\n",
    "\n",
    "y_pred = cnn_aug.predict(X_test)\n",
    "\n",
    "plt.figure(figsize=(16,9))\n",
    "y_pred_labels = [np.argmax(label) for label in y_pred]\n",
    "cm = confusion_matrix(y_test_labels , y_pred_labels)\n",
    "\n",
    "sns.heatmap(cm, \n",
    "            annot=True, \n",
    "            fmt=\"d\",\n",
    "            cmap = 'Blues',\n",
    "            xticklabels = label_dic.values(), \n",
    "            yticklabels = label_dic.values()\n",
    "           )\n",
    "\n",
    "plt.xlabel('Predicted',fontsize='large', fontweight='bold')\n",
    "plt.ylabel('True',fontsize='large', fontweight='bold');\n",
    "            "
   ]
  },
  {
   "cell_type": "code",
   "execution_count": 116,
   "metadata": {},
   "outputs": [
    {
     "name": "stdout",
     "output_type": "stream",
     "text": [
      "INFO:tensorflow:Assets written to: ./models/assets\n"
     ]
    }
   ],
   "source": [
    "cnn_aug.save('./models')"
   ]
  },
  {
   "cell_type": "code",
   "execution_count": null,
   "metadata": {},
   "outputs": [],
   "source": []
  }
 ],
 "metadata": {
  "kernelspec": {
   "display_name": "Python 3",
   "language": "python",
   "name": "python3"
  },
  "language_info": {
   "codemirror_mode": {
    "name": "ipython",
    "version": 3
   },
   "file_extension": ".py",
   "mimetype": "text/x-python",
   "name": "python",
   "nbconvert_exporter": "python",
   "pygments_lexer": "ipython3",
   "version": "3.8.3"
  }
 },
 "nbformat": 4,
 "nbformat_minor": 4
}
